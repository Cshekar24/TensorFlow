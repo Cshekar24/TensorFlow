{
 "cells": [
  {
   "cell_type": "markdown",
   "id": "5ed07890",
   "metadata": {},
   "source": [
    "### Deep Learning - Working with TensorFlow"
   ]
  },
  {
   "cell_type": "markdown",
   "id": "3a2d2820",
   "metadata": {},
   "source": [
    "#### 1. Creation of Tensors\n",
    "#### 2. Slicing of Tensors\n",
    "#### 3. Operations on Tensors\n",
    "#### 4. Activation Functions"
   ]
  },
  {
   "cell_type": "code",
   "execution_count": 1,
   "id": "c07828e2",
   "metadata": {},
   "outputs": [],
   "source": [
    "import tensorflow as tf\n",
    "import numpy as np\n",
    "import pandas as pd"
   ]
  },
  {
   "cell_type": "markdown",
   "id": "b6294c46",
   "metadata": {},
   "source": [
    "#### 1. Create a random tensor with 4 rows and 3 columns. Output random values should form a normal distribution"
   ]
  },
  {
   "cell_type": "code",
   "execution_count": 2,
   "id": "42a6cec7",
   "metadata": {},
   "outputs": [
    {
     "data": {
      "text/plain": [
       "<tf.Tensor: shape=(4, 3), dtype=float32, numpy=\n",
       "array([[ 0.2510778 , -1.7736281 ,  1.0979085 ],\n",
       "       [-0.2440536 , -0.79407936, -0.70112574],\n",
       "       [ 0.8243576 , -0.59311956,  0.9119572 ],\n",
       "       [-1.2120817 , -0.800278  , -0.06586536]], dtype=float32)>"
      ]
     },
     "execution_count": 2,
     "metadata": {},
     "output_type": "execute_result"
    }
   ],
   "source": [
    "t1=tf.random.normal([4,3])\n",
    "t1"
   ]
  },
  {
   "cell_type": "markdown",
   "id": "d6454e19",
   "metadata": {},
   "source": [
    "#### 2. Access the second row of the above matrix and print its value alone"
   ]
  },
  {
   "cell_type": "code",
   "execution_count": 3,
   "id": "b78aae46",
   "metadata": {},
   "outputs": [
    {
     "data": {
      "text/plain": [
       "<tf.Tensor: shape=(3,), dtype=float32, numpy=array([-0.2440536 , -0.79407936, -0.70112574], dtype=float32)>"
      ]
     },
     "execution_count": 3,
     "metadata": {},
     "output_type": "execute_result"
    }
   ],
   "source": [
    "t1[1,:]"
   ]
  },
  {
   "cell_type": "code",
   "execution_count": 4,
   "id": "7f27427e",
   "metadata": {},
   "outputs": [
    {
     "data": {
      "text/plain": [
       "array([-0.2440536 , -0.79407936, -0.70112574], dtype=float32)"
      ]
     },
     "execution_count": 4,
     "metadata": {},
     "output_type": "execute_result"
    }
   ],
   "source": [
    "t2=t1[1,]\n",
    "t2.numpy()"
   ]
  },
  {
   "cell_type": "markdown",
   "id": "986f7453",
   "metadata": {},
   "source": [
    "#### 3. Assign the first value (first row, first column) and last value(last row, last column) to zero"
   ]
  },
  {
   "cell_type": "code",
   "execution_count": 5,
   "id": "e70fcc8e",
   "metadata": {},
   "outputs": [
    {
     "data": {
      "text/plain": [
       "<tf.Variable 'Variable:0' shape=(4, 3) dtype=float32, numpy=\n",
       "array([[ 0.        , -1.7736281 ,  1.0979085 ],\n",
       "       [-0.2440536 , -0.79407936, -0.70112574],\n",
       "       [ 0.8243576 , -0.59311956,  0.9119572 ],\n",
       "       [-1.2120817 , -0.800278  ,  0.        ]], dtype=float32)>"
      ]
     },
     "execution_count": 5,
     "metadata": {},
     "output_type": "execute_result"
    }
   ],
   "source": [
    "tv1=tf.Variable(t1)\n",
    "tv1[0,0].assign(0)\n",
    "tv1[3,2].assign(0)\n",
    "tv1"
   ]
  },
  {
   "cell_type": "code",
   "execution_count": 6,
   "id": "c92c63ff",
   "metadata": {},
   "outputs": [
    {
     "data": {
      "text/plain": [
       "array([[ 0.        , -1.7736281 ,  1.0979085 ],\n",
       "       [-0.2440536 , -0.79407936, -0.70112574],\n",
       "       [ 0.8243576 , -0.59311956,  0.9119572 ],\n",
       "       [-1.2120817 , -0.800278  ,  0.        ]], dtype=float32)"
      ]
     },
     "execution_count": 6,
     "metadata": {},
     "output_type": "execute_result"
    }
   ],
   "source": [
    "tv1.numpy()"
   ]
  },
  {
   "cell_type": "markdown",
   "id": "506cc2a0",
   "metadata": {},
   "source": [
    "#### 4. Replace all the values of third row to zero"
   ]
  },
  {
   "cell_type": "code",
   "execution_count": 7,
   "id": "38fedc6d",
   "metadata": {},
   "outputs": [
    {
     "data": {
      "text/plain": [
       "array([[ 0.        , -1.7736281 ,  1.0979085 ],\n",
       "       [-0.2440536 , -0.79407936, -0.70112574],\n",
       "       [ 0.        ,  0.        ,  0.        ],\n",
       "       [-1.2120817 , -0.800278  ,  0.        ]], dtype=float32)"
      ]
     },
     "execution_count": 7,
     "metadata": {},
     "output_type": "execute_result"
    }
   ],
   "source": [
    "tv2=tf.Variable(tv1)\n",
    "tv2[2,:].assign([0,0,0])\n",
    "tv2.numpy()"
   ]
  },
  {
   "cell_type": "markdown",
   "id": "60f85d8d",
   "metadata": {},
   "source": [
    "#### 5. Create two tensor constants and perform addition and multiplication"
   ]
  },
  {
   "cell_type": "code",
   "execution_count": 8,
   "id": "a515fe92",
   "metadata": {},
   "outputs": [
    {
     "name": "stdout",
     "output_type": "stream",
     "text": [
      "tf.Tensor([2 4 8], shape=(3,), dtype=int32) tf.Tensor([1 3 5], shape=(3,), dtype=int32)\n",
      "Addition: [ 3  7 13]\n",
      "Multiplication: [ 2 12 40]\n"
     ]
    }
   ],
   "source": [
    "x=tf.constant([2,4,8])\n",
    "y=tf.constant([1,3,5])\n",
    "\n",
    "print(x, y)\n",
    "print(\"Addition:\", (x+y).numpy())\n",
    "print(\"Multiplication:\", (x*y).numpy())"
   ]
  },
  {
   "cell_type": "markdown",
   "id": "4bf6c9c4",
   "metadata": {},
   "source": [
    "#### 6. Create two tensors [3,2] and [4,6]. Compute the equilidean distance between the two tensor points"
   ]
  },
  {
   "cell_type": "code",
   "execution_count": 9,
   "id": "ba87402d",
   "metadata": {},
   "outputs": [
    {
     "data": {
      "text/plain": [
       "(<tf.Variable 'Variable:0' shape=(2,) dtype=int32, numpy=array([3, 2])>,\n",
       " <tf.Variable 'Variable:0' shape=(2,) dtype=int32, numpy=array([4, 6])>)"
      ]
     },
     "execution_count": 9,
     "metadata": {},
     "output_type": "execute_result"
    }
   ],
   "source": [
    "a = tf.Variable([3,2])\n",
    "b = tf.Variable([4,6])\n",
    "a, b"
   ]
  },
  {
   "cell_type": "code",
   "execution_count": 10,
   "id": "4900b18d",
   "metadata": {},
   "outputs": [
    {
     "name": "stdout",
     "output_type": "stream",
     "text": [
      "Equilidian distance between a and b tensor points are:  4.123105625617661\n"
     ]
    }
   ],
   "source": [
    "Equi_Dist=np.linalg.norm(a-b)\n",
    "print(\"Equilidian distance between a and b tensor points are: \", Equi_Dist)"
   ]
  },
  {
   "cell_type": "markdown",
   "id": "dfab0378",
   "metadata": {},
   "source": [
    "#### 7. Create 2 random matrices of size [3,3] and [3,3] with minimum value 1 and maximum value 10 and perform element wise multiplication and Matrix Multiplications"
   ]
  },
  {
   "cell_type": "code",
   "execution_count": 11,
   "id": "869e8b74",
   "metadata": {},
   "outputs": [
    {
     "data": {
      "text/plain": [
       "(<tf.Variable 'Variable:0' shape=(3, 3) dtype=int32, numpy=\n",
       " array([[ 2,  4, 10],\n",
       "        [ 9, 10,  9],\n",
       "        [ 3,  5,  6]])>,\n",
       " <tf.Variable 'Variable:0' shape=(3, 3) dtype=int32, numpy=\n",
       " array([[5, 2, 8],\n",
       "        [4, 8, 2],\n",
       "        [2, 1, 7]])>)"
      ]
     },
     "execution_count": 11,
     "metadata": {},
     "output_type": "execute_result"
    }
   ],
   "source": [
    "np.random.seed(99)\n",
    "c=tf.Variable(np.random.randint(1,11,[3,3]))\n",
    "d=tf.Variable(np.random.randint(1,11,[3,3]))\n",
    "c, d"
   ]
  },
  {
   "cell_type": "code",
   "execution_count": 12,
   "id": "7ed0023b",
   "metadata": {},
   "outputs": [
    {
     "data": {
      "text/plain": [
       "array([[10,  8, 80],\n",
       "       [36, 80, 18],\n",
       "       [ 6,  5, 42]])"
      ]
     },
     "execution_count": 12,
     "metadata": {},
     "output_type": "execute_result"
    }
   ],
   "source": [
    "#Element wise multiplication\n",
    "ele_mul=c*d\n",
    "ele_mul.numpy()"
   ]
  },
  {
   "cell_type": "code",
   "execution_count": 13,
   "id": "caf06337",
   "metadata": {},
   "outputs": [
    {
     "data": {
      "text/plain": [
       "array([[ 46,  46,  94],\n",
       "       [103, 107, 155],\n",
       "       [ 47,  52,  76]])"
      ]
     },
     "execution_count": 13,
     "metadata": {},
     "output_type": "execute_result"
    }
   ],
   "source": [
    "#Matrix multiplication\n",
    "mat_mul=tf.matmul(c,d)   #We can use m1@m2 also. \n",
    "mat_mul.numpy()"
   ]
  },
  {
   "cell_type": "markdown",
   "id": "77a73d7f",
   "metadata": {},
   "source": [
    "#### 8. Compute the product of determinant of above two matrices "
   ]
  },
  {
   "cell_type": "code",
   "execution_count": 14,
   "id": "9e260295",
   "metadata": {},
   "outputs": [
    {
     "data": {
      "text/plain": [
       "(<tf.Variable 'Variable:0' shape=(3, 3) dtype=int32, numpy=\n",
       " array([[ 2,  4, 10],\n",
       "        [ 9, 10,  9],\n",
       "        [ 3,  5,  6]])>,\n",
       " <tf.Variable 'Variable:0' shape=(3, 3) dtype=int32, numpy=\n",
       " array([[5, 2, 8],\n",
       "        [4, 8, 2],\n",
       "        [2, 1, 7]])>)"
      ]
     },
     "execution_count": 14,
     "metadata": {},
     "output_type": "execute_result"
    }
   ],
   "source": [
    "c,d"
   ]
  },
  {
   "cell_type": "code",
   "execution_count": 15,
   "id": "8c6440f7",
   "metadata": {},
   "outputs": [
    {
     "data": {
      "text/plain": [
       "<tf.Tensor: shape=(), dtype=float32, numpy=72.0>"
      ]
     },
     "execution_count": 15,
     "metadata": {},
     "output_type": "execute_result"
    }
   ],
   "source": [
    "e=tf.cast(c,tf.float32)\n",
    "det_c=tf.linalg.det(e)\n",
    "det_c"
   ]
  },
  {
   "cell_type": "code",
   "execution_count": 16,
   "id": "965fdc34",
   "metadata": {},
   "outputs": [
    {
     "data": {
      "text/plain": [
       "<tf.Tensor: shape=(), dtype=float32, numpy=125.999985>"
      ]
     },
     "execution_count": 16,
     "metadata": {},
     "output_type": "execute_result"
    }
   ],
   "source": [
    "f=tf.cast(d,tf.float32)\n",
    "det_d=tf.linalg.det(f)\n",
    "det_d"
   ]
  },
  {
   "cell_type": "code",
   "execution_count": 17,
   "id": "de53769f",
   "metadata": {},
   "outputs": [
    {
     "name": "stdout",
     "output_type": "stream",
     "text": [
      "The product of determinant of matrices c and d is:  9071.999\n"
     ]
    }
   ],
   "source": [
    "print(\"The product of determinant of matrices c and d is: \", (det_c*det_d).numpy())"
   ]
  },
  {
   "cell_type": "code",
   "execution_count": 18,
   "id": "3485ef6e",
   "metadata": {},
   "outputs": [
    {
     "data": {
      "text/plain": [
       "<tf.Tensor: shape=(3, 3), dtype=int32, numpy=\n",
       "array([[ 46,  46,  94],\n",
       "       [103, 107, 155],\n",
       "       [ 47,  52,  76]])>"
      ]
     },
     "execution_count": 18,
     "metadata": {},
     "output_type": "execute_result"
    }
   ],
   "source": [
    "#Additional practice\n",
    "tf.tensordot(c,d,1)"
   ]
  },
  {
   "cell_type": "markdown",
   "id": "fb17ab8a",
   "metadata": {},
   "source": [
    "#### 9. Create a float tensor and cast it into integer"
   ]
  },
  {
   "cell_type": "code",
   "execution_count": 19,
   "id": "f3320807",
   "metadata": {},
   "outputs": [
    {
     "data": {
      "text/plain": [
       "<tf.Variable 'Variable:0' shape=() dtype=float32, numpy=6.5>"
      ]
     },
     "execution_count": 19,
     "metadata": {},
     "output_type": "execute_result"
    }
   ],
   "source": [
    "g=tf.Variable(6.5)\n",
    "g"
   ]
  },
  {
   "cell_type": "code",
   "execution_count": 20,
   "id": "73596fba",
   "metadata": {},
   "outputs": [
    {
     "data": {
      "text/plain": [
       "<tf.Tensor: shape=(), dtype=int32, numpy=6>"
      ]
     },
     "execution_count": 20,
     "metadata": {},
     "output_type": "execute_result"
    }
   ],
   "source": [
    "h=tf.cast(g,tf.int32)\n",
    "h"
   ]
  },
  {
   "cell_type": "markdown",
   "id": "0dbe78ba",
   "metadata": {},
   "source": [
    "#### 10. Plot the Sigmoidal activation function using the equation. keep the x value between -10 to 10"
   ]
  },
  {
   "cell_type": "code",
   "execution_count": 21,
   "id": "14bd1d87",
   "metadata": {},
   "outputs": [
    {
     "data": {
      "image/png": "[encoded data removed]",
      "text/plain": [
       "<Figure size 432x288 with 1 Axes>"
      ]
     },
     "metadata": {
      "needs_background": "light"
     },
     "output_type": "display_data"
    }
   ],
   "source": [
    "from math import exp\n",
    "from matplotlib import pyplot as plt\n",
    "\n",
    "# sigmoid activation function\n",
    "def sigmoid(x):\n",
    "    return 1.0 / (1.0 + exp(-x))\n",
    " \n",
    "# define input data\n",
    "inputs = [x for x in range(-10, 10)]\n",
    "# calculate outputs\n",
    "outputs = [sigmoid(x) for x in inputs]\n",
    "# plot inputs vs outputs\n",
    "plt.plot(inputs, outputs)\n",
    "plt.show()"
   ]
  },
  {
   "cell_type": "markdown",
   "id": "3d2f08f1",
   "metadata": {},
   "source": [
    "#### 11. Plot the Relu activation function using the equation. keep the x value between -10 to 10"
   ]
  },
  {
   "cell_type": "code",
   "execution_count": 22,
   "id": "a0c3375f",
   "metadata": {},
   "outputs": [
    {
     "data": {
      "image/png": "[encoded data removed]",
      "text/plain": [
       "<Figure size 432x288 with 1 Axes>"
      ]
     },
     "metadata": {
      "needs_background": "light"
     },
     "output_type": "display_data"
    }
   ],
   "source": [
    "# rectified linear function\n",
    "def rectified(x):\n",
    "    return max(0.0, x)\n",
    " \n",
    "# define input data\n",
    "inputs = [x for x in range(-10, 10)]\n",
    "# calculate outputs\n",
    "outputs = [rectified(x) for x in inputs]\n",
    "# plot inputs vs outputs\n",
    "plt.plot(inputs, outputs)\n",
    "plt.show()"
   ]
  },
  {
   "cell_type": "markdown",
   "id": "4e12c677",
   "metadata": {},
   "source": [
    "#### 12. Plot the Tanh activation function using the equation. keep the x value between -10 to 10"
   ]
  },
  {
   "cell_type": "code",
   "execution_count": 23,
   "id": "d08402df",
   "metadata": {},
   "outputs": [
    {
     "data": {
      "image/png": "[encoded data removed]",
      "text/plain": [
       "<Figure size 432x288 with 1 Axes>"
      ]
     },
     "metadata": {
      "needs_background": "light"
     },
     "output_type": "display_data"
    }
   ],
   "source": [
    "# tanh activation function\n",
    "def tanh(x):\n",
    "    return (exp(x) - exp(-x)) / (exp(x) + exp(-x))\n",
    " \n",
    "# define input data\n",
    "inputs = [x for x in range(-10, 10)]\n",
    "# calculate outputs\n",
    "outputs = [tanh(x) for x in inputs]\n",
    "# plot inputs vs outputs\n",
    "plt.plot(inputs, outputs)\n",
    "plt.show()"
   ]
  },
  {
   "cell_type": "markdown",
   "id": "2a71fed3",
   "metadata": {},
   "source": [
    "#### 13. Perform the following equation using tensors y = x^4+x^2+6, where x = [1,2,4,2,8,10]"
   ]
  },
  {
   "cell_type": "code",
   "execution_count": 24,
   "id": "c552a8d9",
   "metadata": {},
   "outputs": [
    {
     "data": {
      "image/png": "[encoded data removed]",
      "text/plain": [
       "<Figure size 432x288 with 1 Axes>"
      ]
     },
     "metadata": {
      "needs_background": "light"
     },
     "output_type": "display_data"
    }
   ],
   "source": [
    "x = tf.constant([1,2,4,2,8,10])\n",
    "y = tf.pow(x,4)+tf.pow(x,2)+6\n",
    "# plot inputs vs outputs\n",
    "plt.plot(y, x)\n",
    "plt.show()"
   ]
  },
  {
   "cell_type": "markdown",
   "id": "3a4a94a7",
   "metadata": {},
   "source": [
    "#### 14. Consider the regression data below:\n",
    "inp=tf.constant([[18,1.5,1.5],[21,3,1.2],[29,7,2.5],[29,11,1.5],[17,1,1.5],\n",
    "                 [22,2,2.5],[31,12,1.5],[30,8,2.5]])\n",
    "                 \n",
    "out=tf.constant([[5],[6],[9],[13],[4.8],[5.5],[13.2],[10.5]])\n",
    "\n",
    "Compute the model coefficents using adam optimizer ? Use the loss function as Sum of squared error"
   ]
  },
  {
   "cell_type": "code",
   "execution_count": 25,
   "id": "3394e8aa",
   "metadata": {},
   "outputs": [
    {
     "data": {
      "text/plain": [
       "<tf.Tensor: shape=(8,), dtype=float32, numpy=array([21. , 25.2, 38.5, 41.5, 19.5, 26.5, 44.5, 40.5], dtype=float32)>"
      ]
     },
     "execution_count": 25,
     "metadata": {},
     "output_type": "execute_result"
    }
   ],
   "source": [
    "inp=tf.constant([[18,1.5,1.5],[21,3,1.2],[29,7,2.5],[29,11,1.5],[17,1,1.5], [22,2,2.5],[31,12,1.5],[30,8,2.5]])\n",
    "out=tf.constant([[5],[6],[9],[13],[4.8],[5.5],[13.2],[10.5]])\n",
    "\n",
    "w=tf.Variable(tf.ones([3,])) #Random assumption of initial weight\n",
    "tf.tensordot(inp,w,1) #Multiplying the inputs with weight"
   ]
  },
  {
   "cell_type": "code",
   "execution_count": 26,
   "id": "ec494784",
   "metadata": {},
   "outputs": [],
   "source": [
    "def mod1(inputs,weight):\n",
    "    return (tf.tensordot(inputs,weight,1))"
   ]
  },
  {
   "cell_type": "code",
   "execution_count": 27,
   "id": "f510efa1",
   "metadata": {},
   "outputs": [],
   "source": [
    "#Absolute_loss\n",
    "#loss=lambda: tf.reduce_sum((abs(mod1(inp,w)-tf.transpose(out)))) \n",
    "#Sum of Squared Error Loss (SSE) is given by 1/2(y-ypred)**2\n",
    "loss=lambda: tf.reduce_sum((0.5*tf.square(mod1(inp,w)-tf.transpose(out))))  "
   ]
  },
  {
   "cell_type": "code",
   "execution_count": 28,
   "id": "9075920f",
   "metadata": {},
   "outputs": [],
   "source": [
    "opti=tf.optimizers.Adam(learning_rate=0.1)"
   ]
  },
  {
   "cell_type": "code",
   "execution_count": 29,
   "id": "259384d1",
   "metadata": {},
   "outputs": [],
   "source": [
    "for i in range(100):\n",
    "    opti.minimize(loss,var_list=[w])"
   ]
  },
  {
   "cell_type": "code",
   "execution_count": 30,
   "id": "cf4be123",
   "metadata": {},
   "outputs": [
    {
     "name": "stdout",
     "output_type": "stream",
     "text": [
      "Model co-efficient using Adam optimizer are:  [ 0.21459894  0.5258997  -0.01782536]\n"
     ]
    }
   ],
   "source": [
    "print(\"Model co-efficient using Adam optimizer are: \", w.numpy())"
   ]
  },
  {
   "cell_type": "markdown",
   "id": "33a99914",
   "metadata": {},
   "source": [
    "#### 15. Perform the following equation\n",
    "#### new_weight = alpha *Error + previous_weight\n",
    "##### Assign the initial value of new_weight=0\n",
    "##### Randomly create 100 values for error. Update the new_weight for every value of error"
   ]
  },
  {
   "cell_type": "code",
   "execution_count": 31,
   "id": "16bbe922",
   "metadata": {},
   "outputs": [],
   "source": [
    "Error=tf.random.normal([100])\n",
    "alpha=tf.constant(0.05)\n",
    "new_weight=tf.Variable(0.)  #It is also previous weight for following instances\n",
    "res=[]"
   ]
  },
  {
   "cell_type": "code",
   "execution_count": 32,
   "id": "8b325f9a",
   "metadata": {},
   "outputs": [],
   "source": [
    "for i in range(Error.numpy().shape[0]):\n",
    "    new_weight=alpha*Error.numpy()[i]+new_weight\n",
    "    res.append(new_weight.numpy())"
   ]
  },
  {
   "cell_type": "code",
   "execution_count": 33,
   "id": "a591c40a",
   "metadata": {},
   "outputs": [
    {
     "data": {
      "image/png": "[encoded data removed]",
      "text/plain": [
       "<Figure size 432x288 with 1 Axes>"
      ]
     },
     "metadata": {
      "needs_background": "light"
     },
     "output_type": "display_data"
    }
   ],
   "source": [
    "from matplotlib import pyplot as plt\n",
    "plt.plot(res)\n",
    "plt.show()"
   ]
  },
  {
   "cell_type": "code",
   "execution_count": null,
   "id": "7ada2cb5",
   "metadata": {},
   "outputs": [],
   "source": []
  }
 ],
 "metadata": {
  "kernelspec": {
   "display_name": "Python 3",
   "language": "python",
   "name": "python3"
  },
  "language_info": {
   "codemirror_mode": {
    "name": "ipython",
    "version": 3
   },
   "file_extension": ".py",
   "mimetype": "text/x-python",
   "name": "python",
   "nbconvert_exporter": "python",
   "pygments_lexer": "ipython3",
   "version": "3.6.13"
  }
 },
 "nbformat": 4,
 "nbformat_minor": 5
}
